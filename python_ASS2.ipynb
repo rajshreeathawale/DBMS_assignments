{
  "nbformat": 4,
  "nbformat_minor": 0,
  "metadata": {
    "colab": {
      "provenance": [],
      "authorship_tag": "ABX9TyNCbbpyuc1aGekPntJ8QLJv",
      "include_colab_link": true
    },
    "kernelspec": {
      "name": "python3",
      "display_name": "Python 3"
    },
    "language_info": {
      "name": "python"
    }
  },
  "cells": [
    {
      "cell_type": "markdown",
      "metadata": {
        "id": "view-in-github",
        "colab_type": "text"
      },
      "source": [
        "<a href=\"https://colab.research.google.com/github/rajshreeathawale/DBMS_assignments/blob/main/python_ASS2.ipynb\" target=\"_parent\"><img src=\"https://colab.research.google.com/assets/colab-badge.svg\" alt=\"Open In Colab\"/></a>"
      ]
    },
    {
      "cell_type": "markdown",
      "source": [
        "**Python Ass 2**"
      ],
      "metadata": {
        "id": "x7oeDcGYBteJ"
      }
    },
    {
      "cell_type": "markdown",
      "source": [
        "Q1.Write a program that asks a user for a username and\n",
        "password. If password is “cdac” and does not contain username\n",
        "print “login successful” otherwise “login failure”"
      ],
      "metadata": {
        "id": "WhFwThvwEA32"
      }
    },
    {
      "cell_type": "code",
      "source": [
        "UName =input(\"Enter your name :\")\n",
        "passwd =input(\"Enter your Password :\")\n",
        "if passwd == \"cdac\" and UName not in passwd :\n",
        "    print(\"Login Successful\")\n",
        "else :\n",
        "    print(\"Login failure\")\n",
        "\n",
        "\n",
        "\n"
      ],
      "metadata": {
        "colab": {
          "base_uri": "https://localhost:8080/"
        },
        "id": "IO-OWCrxEV4Y",
        "outputId": "594ee674-fd70-4bff-8709-ca99d5179b94"
      },
      "execution_count": null,
      "outputs": [
        {
          "output_type": "stream",
          "name": "stdout",
          "text": [
            "Enter your name :Rajshree\n",
            "Enter your Password :cdac\n",
            "Login Successful\n"
          ]
        }
      ]
    },
    {
      "cell_type": "code",
      "execution_count": null,
      "metadata": {
        "id": "mCKX-5j3D5Wa"
      },
      "outputs": [],
      "source": []
    },
    {
      "cell_type": "markdown",
      "source": [
        "Q2.Write a program to input 2 strings. If string1 is contained in\n",
        "string2 ,create a third string with the first four characters of\n",
        "string2 added with word “cdac”\n",
        "\n"
      ],
      "metadata": {
        "id": "L-L6dGUAG1qf"
      }
    },
    {
      "cell_type": "code",
      "source": [
        "s1=input(\"Enter first string: \")\n",
        "s2=input(\"Enter second string: \")\n",
        "if s1 in s2:\n",
        "    s3=s2[:4] + \"cdac\"\n",
        "    print(\"Third string gives :\",s3)\n",
        "else:\n",
        "    print(s1 not in s2)"
      ],
      "metadata": {
        "colab": {
          "base_uri": "https://localhost:8080/"
        },
        "id": "EySw0W3_HFXE",
        "outputId": "6bcb00c9-c7f4-4d4a-a198-52818a5abab2"
      },
      "execution_count": null,
      "outputs": [
        {
          "output_type": "stream",
          "name": "stdout",
          "text": [
            "Enter first string: tvm\n",
            "Enter second string: pgdbdatvm\n",
            "Third string gives : pgdbcdac\n"
          ]
        }
      ]
    },
    {
      "cell_type": "markdown",
      "source": [
        "Q3.Write a program that inputs a string that contains a decimal\n",
        "number and prints out the decimal part of the number(Do not\n",
        "convert the string to number)"
      ],
      "metadata": {
        "id": "i9QcRMh1KHbM"
      }
    },
    {
      "cell_type": "code",
      "source": [
        "a =input(\"Enter a decimal value\")\n",
        "decimal_part =a.split(\".\",1)[-1]\n",
        "print(\"The decimal part :\",decimal_part)\n"
      ],
      "metadata": {
        "colab": {
          "base_uri": "https://localhost:8080/"
        },
        "id": "eKnhoxo3KNU_",
        "outputId": "02ea1644-84f8-49ba-9faa-aea2a0f4bc24"
      },
      "execution_count": null,
      "outputs": [
        {
          "output_type": "stream",
          "name": "stdout",
          "text": [
            "Enter a decimal value125.364\n",
            "The decimal part : 364\n"
          ]
        }
      ]
    },
    {
      "cell_type": "markdown",
      "source": [
        "Q4 Write a program that takes a string with multiple words and\n",
        "then capitalizes the first letter of each word and forms a new\n",
        "string out of it"
      ],
      "metadata": {
        "id": "yPrUrKL2OEaq"
      }
    },
    {
      "cell_type": "code",
      "source": [
        "string =input(\"Enter the string of multiple words :\")\n",
        "CapString = string.title()\n",
        "print(\"string of words with first letter capital :\",CapString)\n"
      ],
      "metadata": {
        "colab": {
          "base_uri": "https://localhost:8080/"
        },
        "id": "coKYrd6oOKDf",
        "outputId": "356de9ba-015f-40d4-f0e4-b4163a1fb763"
      },
      "execution_count": null,
      "outputs": [
        {
          "output_type": "stream",
          "name": "stdout",
          "text": [
            "Enter the string of multiple words :my name is rajshree\n",
            "string of words with first letter capital : My Name Is Rajshree\n"
          ]
        }
      ]
    },
    {
      "cell_type": "markdown",
      "source": [
        "Q5.Write a program that reads a string and prints a string that\n",
        "capitalizes every other letter in the string (eg: python becomes\n",
        "pYtHoN)"
      ],
      "metadata": {
        "id": "pH_J-Hg-PO_J"
      }
    },
    {
      "cell_type": "code",
      "source": [
        " a = input(\"Enter a String :\")\n",
        " b =''.join(char.upper() if i%2==0 else char for i,char in enumerate(a))\n",
        " print(\"New String :\",b)"
      ],
      "metadata": {
        "colab": {
          "base_uri": "https://localhost:8080/"
        },
        "id": "4gB7b0PyQhSF",
        "outputId": "c4836c68-6775-4c53-9faa-91a0a212ac60"
      },
      "execution_count": null,
      "outputs": [
        {
          "output_type": "stream",
          "name": "stdout",
          "text": [
            "Enter a String :python\n",
            "New String : PyThOn\n"
          ]
        }
      ]
    },
    {
      "cell_type": "markdown",
      "source": [
        "Q6Write a program that asks the user for a string and creates a new string that doubles each character of the original string(eg:\n",
        "cdac becomes ccddaacc)"
      ],
      "metadata": {
        "id": "u_KFXkKbRSUJ"
      }
    },
    {
      "cell_type": "code",
      "source": [
        "a =input(\"Enter a string :\")\n",
        "b =\"\".join(char * 2 for char in a)\n",
        "print(\"New string :\",b)"
      ],
      "metadata": {
        "colab": {
          "base_uri": "https://localhost:8080/"
        },
        "id": "Vlv5ntdPRfRM",
        "outputId": "7ce57c83-84a1-448a-9f92-74761a9d0e5e"
      },
      "execution_count": null,
      "outputs": [
        {
          "output_type": "stream",
          "name": "stdout",
          "text": [
            "Enter a string :cdac\n",
            "New string : ccddaacc\n"
          ]
        }
      ]
    },
    {
      "cell_type": "markdown",
      "source": [
        "or"
      ],
      "metadata": {
        "id": "UqvooPHx_P_6"
      }
    },
    {
      "cell_type": "code",
      "source": [
        "a =input(\"Enter a string :\")\n",
        "\n",
        "b=\"\"\n",
        "for i in a:\n",
        "    b+= i * 2\n",
        "print(\"New string :\",b)\n"
      ],
      "metadata": {
        "colab": {
          "base_uri": "https://localhost:8080/"
        },
        "id": "6sRi7L1_9bNZ",
        "outputId": "9366664b-fb45-4e9c-e0d5-078f4e97fd39"
      },
      "execution_count": null,
      "outputs": [
        {
          "output_type": "stream",
          "name": "stdout",
          "text": [
            "Enter a string :cdac\n",
            "New string : ccddaacc\n"
          ]
        }
      ]
    },
    {
      "cell_type": "markdown",
      "source": [
        "Q7.Write a program that inputs a line of text and prints its each\n",
        "word in a separate line along with its length"
      ],
      "metadata": {
        "id": "rZrqBH9nS3JC"
      }
    },
    {
      "cell_type": "code",
      "source": [
        "text = input(\"Enter a text :\")\n",
        "words =text.split()\n",
        "for word in words:\n",
        "   print(word,\":\",len(word))"
      ],
      "metadata": {
        "colab": {
          "base_uri": "https://localhost:8080/"
        },
        "id": "yem85mERS8ub",
        "outputId": "87dc3ebe-8ded-4187-d295-752ad5b900ee"
      },
      "execution_count": null,
      "outputs": [
        {
          "output_type": "stream",
          "name": "stdout",
          "text": [
            "Enter a text :cdac pgdbda tvm\n",
            "cdac : 4\n",
            "pgdbda : 6\n",
            "tvm : 3\n"
          ]
        }
      ]
    },
    {
      "cell_type": "markdown",
      "source": [
        "Q8.Write a program which takes one string and a character. The\n",
        "function should create a new string after deleting all the\n",
        "occurrences of the character from the string"
      ],
      "metadata": {
        "id": "zOrz6YiBVcod"
      }
    },
    {
      "cell_type": "code",
      "source": [
        "s1 = input(\"Enter a string :\")\n",
        "s2 = input(\"Enter characters to be removed :\")\n",
        "s3 = s1.replace(s2,\"-\")\n",
        "print(\"New String :\",s3)"
      ],
      "metadata": {
        "colab": {
          "base_uri": "https://localhost:8080/"
        },
        "id": "M5DZ226bVzkt",
        "outputId": "b89b2cb1-873d-4941-bba6-5832593ca9f1"
      },
      "execution_count": null,
      "outputs": [
        {
          "output_type": "stream",
          "name": "stdout",
          "text": [
            "Enter a string :cdac pgdac pgdbda\n",
            "Enter characters to be removed :pgdac\n",
            "New String : cdac - pgdbda\n"
          ]
        }
      ]
    },
    {
      "cell_type": "markdown",
      "source": [
        "Q9.Write a program that reads a sentence and print the string\n",
        "with lowercase characters converted to uppercase and\n",
        "viceversa"
      ],
      "metadata": {
        "id": "WeJZIJewXuKF"
      }
    },
    {
      "cell_type": "code",
      "source": [
        "s1 = input(\"Enter a string :\")\n",
        "s2 =s1.upper()\n",
        "print(\"First string in upper case :\",s2)\n",
        "s3 = s2.lower()\n",
        "print(\"String converted in lower case :\",s3)"
      ],
      "metadata": {
        "colab": {
          "base_uri": "https://localhost:8080/"
        },
        "id": "8STwSgq5XzYZ",
        "outputId": "235a395f-b289-4285-8172-5876299b9cb1"
      },
      "execution_count": null,
      "outputs": [
        {
          "output_type": "stream",
          "name": "stdout",
          "text": [
            "Enter a string :i am rajshree\n",
            "First string in upper case : I AM RAJSHREE\n",
            "String converted in lower case : i am rajshree\n"
          ]
        }
      ]
    },
    {
      "cell_type": "markdown",
      "source": [
        "Q10.Write a program that does the following:\n",
        "\n",
        "a. Prompt the user for a string\n",
        "\n",
        "b. Extract all the digits from the string\n",
        "\n",
        "c. If there are digits\n",
        "\n",
        "a. sum the collected digits together\n",
        "\n",
        "b. print out: the original string , the digits, the sum of the\n",
        "digits d. If there are no digits\n",
        "\n",
        "a. print the original string and a message “has no digits”"
      ],
      "metadata": {
        "id": "YVvWXHaJZpuT"
      }
    },
    {
      "cell_type": "code",
      "source": [
        "string = input(\"Enter a string :\")\n",
        "dig_sum=0\n",
        "Extr_digit = ''.join(char for char in string if char.isdigit())\n",
        "\n",
        "#sum of digits\n",
        "for i in string:\n",
        "    if i.isdigit():\n",
        "        dig_sum+=int(i)\n",
        "\n",
        "#original string\n",
        "print(\"Original String :\",string)\n",
        "\n",
        "#check if any digit\n",
        "if Extr_digit:\n",
        "    print(\"Extracted digits :\",Extr_digit)\n",
        "    print(\"Sum of digits :\",dig_sum)\n",
        "\n",
        "else:\n",
        "    print(\" Has no digit in the String\")\n",
        "\n"
      ],
      "metadata": {
        "colab": {
          "base_uri": "https://localhost:8080/"
        },
        "id": "NKR5XOURaCnl",
        "outputId": "1dc987c0-f924-42ca-fdc4-802339fa4328"
      },
      "execution_count": null,
      "outputs": [
        {
          "output_type": "stream",
          "name": "stdout",
          "text": [
            "Enter a string :rashi 1997\n",
            "Original String : rashi 1997\n",
            "Extracted digits : 1997\n",
            "Sum of digits : 26\n"
          ]
        }
      ]
    },
    {
      "cell_type": "markdown",
      "source": [
        "Q11.Extract two list slices out of a given list of numbers. Display and\n",
        "print the sum of elements of the first slice which contains every\n",
        "other element of the list between indexes 5 to 15. Program should\n",
        "also display the average of elements in the second list slice that\n",
        "contains every fourth element of the list."
      ],
      "metadata": {
        "id": "yXWIsOyafMgz"
      }
    },
    {
      "cell_type": "code",
      "source": [
        "num =[1,2,3,4,5,6,7,8,9,10,11,12,13,14,15,16,17]\n",
        "f_slice =num[5:16:2]\n",
        "print(\"first slice :\",f_slice)\n",
        "f_sum=sum(f_slice)\n",
        "print(\"First slice sum :\",f_sum)\n",
        "s_slice=num[::4]\n",
        "print(\"second slice :\",s_slice)\n",
        "s_avg=sum(s_slice)/len(s_slice)\n",
        "print(\"Average of the second slice elements :\",s_avg)\n"
      ],
      "metadata": {
        "colab": {
          "base_uri": "https://localhost:8080/"
        },
        "id": "ZnD4sWogfUOv",
        "outputId": "43826673-392a-4d79-ef50-7fcd6d1575d1"
      },
      "execution_count": null,
      "outputs": [
        {
          "output_type": "stream",
          "name": "stdout",
          "text": [
            "first slice : [6, 8, 10, 12, 14, 16]\n",
            "First slice sum : 66\n",
            "second slice : [1, 5, 9, 13, 17]\n",
            "Average of the second slice elements : 9.0\n"
          ]
        }
      ]
    },
    {
      "cell_type": "markdown",
      "source": [
        "Q12.Write a program that inputs a list, replicates it twice and then\n",
        "prints the sorted list both in ascending and descending order"
      ],
      "metadata": {
        "id": "mNj1RmNhjUHX"
      }
    },
    {
      "cell_type": "code",
      "source": [
        "l1 =[1,2,3,5,40,60,25]\n",
        "l2=l1*2\n",
        "print(l2)\n",
        "asc_sort=sorted(l2)\n",
        "print(\"Sorted list in ascending order :\",asc_sort)\n",
        "desc_sort=sorted(l2,reverse = True)\n",
        "print(\"Sorted list in descending order :\",desc_sort)\n",
        "\n",
        "\n"
      ],
      "metadata": {
        "colab": {
          "base_uri": "https://localhost:8080/"
        },
        "id": "1PzfH326jh_3",
        "outputId": "114e1800-834d-4206-c2b2-d6d6db278e0f"
      },
      "execution_count": null,
      "outputs": [
        {
          "output_type": "stream",
          "name": "stdout",
          "text": [
            "[1, 2, 3, 5, 40, 60, 25, 1, 2, 3, 5, 40, 60, 25]\n",
            "Sorted list in ascending order : [1, 1, 2, 2, 3, 3, 5, 5, 25, 25, 40, 40, 60, 60]\n",
            "Sorted list in descending order : [60, 60, 40, 40, 25, 25, 5, 5, 3, 3, 2, 2, 1, 1]\n"
          ]
        }
      ]
    },
    {
      "cell_type": "markdown",
      "source": [
        "Q13Write a program to calculate the mean of a list of numbers"
      ],
      "metadata": {
        "id": "2WywHXDMr0QL"
      }
    },
    {
      "cell_type": "code",
      "source": [
        "l=[2,3,5,8]\n",
        "\n",
        "mean =sum(l)/len(l)\n",
        "print(\"Mean :\",mean)"
      ],
      "metadata": {
        "colab": {
          "base_uri": "https://localhost:8080/"
        },
        "id": "Rh-hwB29r6mO",
        "outputId": "584b9ea3-d64c-4414-d55f-7c4b681443cb"
      },
      "execution_count": null,
      "outputs": [
        {
          "output_type": "stream",
          "name": "stdout",
          "text": [
            "Mean : 4.5\n"
          ]
        }
      ]
    },
    {
      "cell_type": "markdown",
      "source": [
        "or"
      ],
      "metadata": {
        "id": "FjK51C2-u2LQ"
      }
    },
    {
      "cell_type": "code",
      "source": [
        "n=input(\"Enter the list of numbers :\")\n",
        "n_list=[float(num) for num in n.split(',')]\n",
        "mean = sum(n_list)/len(n_list)\n",
        "print(\"Mean :\",mean)"
      ],
      "metadata": {
        "colab": {
          "base_uri": "https://localhost:8080/"
        },
        "id": "CuDa21W-uRvP",
        "outputId": "f96e7557-5251-4b33-adfc-7b73ab452b84"
      },
      "execution_count": null,
      "outputs": [
        {
          "output_type": "stream",
          "name": "stdout",
          "text": [
            "Enter the list of numbers :20,30,40,50\n",
            "Mean : 35.0\n"
          ]
        }
      ]
    },
    {
      "cell_type": "markdown",
      "source": [
        "Q14.Write a program to check if the max element of the list lies\n",
        "in the first half or the second half"
      ],
      "metadata": {
        "id": "p-P7tkLBu0gD"
      }
    },
    {
      "cell_type": "code",
      "source": [
        "l =[20,30,50,40,10,25]\n",
        "max_ele = max(l)\n",
        "max_index=l.index(max_ele)\n",
        "middle=len(l)//2\n",
        "if max_index<middle:\n",
        "    print(\"Max element in first half\",max_ele)\n",
        "else:\n",
        "    print(\"Max element in second half\",max_ele)"
      ],
      "metadata": {
        "colab": {
          "base_uri": "https://localhost:8080/"
        },
        "id": "5Nt-NNG1v6hV",
        "outputId": "eaf5c6bd-d1e8-40c9-988a-c3aa14e1d2e4"
      },
      "execution_count": null,
      "outputs": [
        {
          "output_type": "stream",
          "name": "stdout",
          "text": [
            "Max element in first half 50\n"
          ]
        }
      ]
    },
    {
      "cell_type": "markdown",
      "source": [
        "Q15.Write a program to input 2 lists and display the maximum\n",
        "element from the elements of both the list, along with its index\n",
        "in the list"
      ],
      "metadata": {
        "id": "ZCPuiTM56Q9J"
      }
    },
    {
      "cell_type": "code",
      "source": [
        "l1 =[10,20,30,90,77]\n",
        "l2 =[40,60,25,40,65]\n",
        "max_l1 = max(l1)\n",
        "i1 = l1.index(max_l1)\n",
        "print(\"Maximum element in first list :\",max_l1,\"Index :\",i1)\n",
        "max_l2 = max(l2)\n",
        "i2 = l2.index(max_l2)\n",
        "print(\"Maximum element in second list :\",max_l2,\"Index :\",i2)"
      ],
      "metadata": {
        "colab": {
          "base_uri": "https://localhost:8080/"
        },
        "id": "ivXL9-G96b72",
        "outputId": "688700d7-0a91-4e8c-9bec-6e59dd19e07f"
      },
      "execution_count": null,
      "outputs": [
        {
          "output_type": "stream",
          "name": "stdout",
          "text": [
            "Maximum element in first list : 90 Index : 3\n",
            "Maximum element in second list : 65 Index : 4\n"
          ]
        }
      ]
    },
    {
      "cell_type": "markdown",
      "source": [
        "Q16.Given 2 lists, write a program that prints “overlapped” if they\n",
        "have at least one member in common otherwise “not overlapped”"
      ],
      "metadata": {
        "id": "-vCFR6Jy9kxv"
      }
    },
    {
      "cell_type": "code",
      "source": [
        "l1 = [10,50,30,15]\n",
        "l2 = [20,30,25,66]\n",
        "if any(element in l1 for element in l2):\n",
        "    print(\"Overlapped\")\n",
        "else:\n",
        "    print(\"not Overlapped\")\n"
      ],
      "metadata": {
        "colab": {
          "base_uri": "https://localhost:8080/"
        },
        "id": "udQEPLhR9qvJ",
        "outputId": "09991dc2-88c0-4d7c-e03c-25123c729695"
      },
      "execution_count": null,
      "outputs": [
        {
          "output_type": "stream",
          "name": "stdout",
          "text": [
            "Overlapped\n"
          ]
        }
      ]
    },
    {
      "cell_type": "markdown",
      "source": [
        "or\n"
      ],
      "metadata": {
        "id": "uLtL0HfIS1bw"
      }
    },
    {
      "cell_type": "code",
      "source": [
        "l1 = [10,50,30,15]\n",
        "l2 = [20,30,25,66]\n",
        "overlapped = False\n",
        "\n",
        "for i in l1:\n",
        "    for j in l2:\n",
        "        if i==j:\n",
        "            overlapped = True\n",
        "            break\n",
        "if overlapped:\n",
        "    print(\"Overlapped\")\n",
        "else:\n",
        "    print(\"Dose not overlapp\")"
      ],
      "metadata": {
        "colab": {
          "base_uri": "https://localhost:8080/"
        },
        "id": "KnSIyKe8S0_n",
        "outputId": "f9112ab6-34e3-4499-dc5c-3edf74f2eebd"
      },
      "execution_count": null,
      "outputs": [
        {
          "output_type": "stream",
          "name": "stdout",
          "text": [
            "Overlapped\n"
          ]
        }
      ]
    },
    {
      "cell_type": "markdown",
      "source": [
        "Q17. Write a program to input a list and 2 numbers m and n. Then\n",
        "create a list from those elements which are divisible by both m and\n",
        "n"
      ],
      "metadata": {
        "id": "SCqEHsn5_22q"
      }
    },
    {
      "cell_type": "code",
      "source": [
        "l =input(\"Enter a list of number :\")\n",
        "m=int(input(\"Enter a number :\"))\n",
        "n=int(input(\"Enter a number :\"))\n",
        "num_list = [int(num) for num in l.split(\",\")]\n",
        "div_elements = [num for num in num_list if num%m==0 and num%n==0]\n",
        "print(\"Elements divisible by\", m ,\"and\", n ,\":\",div_elements)"
      ],
      "metadata": {
        "colab": {
          "base_uri": "https://localhost:8080/"
        },
        "id": "YtYD-CKNAF1D",
        "outputId": "8fdc5cb3-ecc5-439d-bc5b-03225c07f156"
      },
      "execution_count": null,
      "outputs": [
        {
          "output_type": "stream",
          "name": "stdout",
          "text": [
            "Enter a list of number :10,20,30,40,50\n",
            "Enter a number :10\n",
            "Enter a number :20\n",
            "Elements divisible by 10 and 20 : [20, 40]\n"
          ]
        }
      ]
    },
    {
      "cell_type": "markdown",
      "source": [
        "Q18.Write a program to demonstrate the number guess game.\n",
        "(You v/s Random module)"
      ],
      "metadata": {
        "id": "r6BCXsHmYNyc"
      }
    },
    {
      "cell_type": "code",
      "source": [
        "import random\n",
        "r =random.randint(1,15)\n",
        "a = 0\n",
        "while True:\n",
        "    guess =int(input(\"Enter a number of your choice between 1 and 15 : \"))\n",
        "    a +=1\n",
        "    if guess==r:\n",
        "        print(\"Congrats! you guessed the number in : \",a,\"attempts.\")\n",
        "        break\n",
        "    elif guess < r:\n",
        "        print(\"Try with the heigher value .\")\n",
        "    else:\n",
        "        print(\"Try with another lower value.\")"
      ],
      "metadata": {
        "colab": {
          "base_uri": "https://localhost:8080/"
        },
        "id": "sLf3fqt6YVmd",
        "outputId": "df361327-8554-4cdc-ce19-918c4b90bd45"
      },
      "execution_count": null,
      "outputs": [
        {
          "output_type": "stream",
          "name": "stdout",
          "text": [
            "Enter a number of your choice between 1 and 15 : 6\n",
            "Try with another lower value.\n",
            "Enter a number of your choice between 1 and 15 : 5\n",
            "Try with another lower value.\n",
            "Enter a number of your choice between 1 and 15 : 4\n",
            "Congrats! you guessed the number in :  3 attempts.\n"
          ]
        }
      ]
    },
    {
      "cell_type": "markdown",
      "source": [
        "Q19.Write a program to print the multiplication table of a number\n",
        "and read the number from the console."
      ],
      "metadata": {
        "id": "m8Hal90ebMex"
      }
    },
    {
      "cell_type": "code",
      "source": [
        "a =int(input(\"Enter a number :\"))\n",
        "print(\"Number :\",a)\n",
        "for i in range(1,11):\n",
        "    result = a*i\n",
        "    print(\"Multiplication Table :\",result)\n"
      ],
      "metadata": {
        "colab": {
          "base_uri": "https://localhost:8080/"
        },
        "id": "QUzFZN9UbYGW",
        "outputId": "de4e6bc3-f0ba-4ce4-ccdd-215bca9304f0"
      },
      "execution_count": null,
      "outputs": [
        {
          "output_type": "stream",
          "name": "stdout",
          "text": [
            "Enter a number :21\n",
            "Number : 21\n",
            "Multiplication Table : 21\n",
            "Multiplication Table : 42\n",
            "Multiplication Table : 63\n",
            "Multiplication Table : 84\n",
            "Multiplication Table : 105\n",
            "Multiplication Table : 126\n",
            "Multiplication Table : 147\n",
            "Multiplication Table : 168\n",
            "Multiplication Table : 189\n",
            "Multiplication Table : 210\n"
          ]
        }
      ]
    },
    {
      "cell_type": "markdown",
      "source": [
        "Q20.Write a program to calculate and print the sums of even and\n",
        "odd integers of the first n natural numbers"
      ],
      "metadata": {
        "id": "6VFp6SMKf_MC"
      }
    },
    {
      "cell_type": "code",
      "source": [
        "n = int(input(\"Enter a number :\"))\n",
        "even_sum=0\n",
        "odd_sum=0\n",
        "for i in range(1,n+1):\n",
        "    if i%2 == 0:\n",
        "        even_sum+=i\n",
        "    else:\n",
        "        odd_sum+=i\n",
        "print(\"Sum of even number :\",even_sum)\n",
        "print(\"sum of odd number :\",odd_sum)"
      ],
      "metadata": {
        "colab": {
          "base_uri": "https://localhost:8080/"
        },
        "id": "jdXf9mKpjEir",
        "outputId": "21ad48f4-945a-4f31-b857-f653885c64cd"
      },
      "execution_count": null,
      "outputs": [
        {
          "output_type": "stream",
          "name": "stdout",
          "text": [
            "Enter a number :15\n",
            "Sum of even number : 56\n",
            "sum of odd number : 64\n"
          ]
        }
      ]
    },
    {
      "cell_type": "markdown",
      "source": [
        "Q21.Write a program to input a number and test whether it is\n",
        "prime or not"
      ],
      "metadata": {
        "id": "ztOu8EwzkLCk"
      }
    },
    {
      "cell_type": "code",
      "source": [
        "\n",
        "num = int(input(\"Enter a number :\"))\n",
        "if num<=1:\n",
        "    is_prime=False\n",
        "else:\n",
        "    is_prime=True\n",
        "    for i in range(2,int(num**0.5)+1):\n",
        "         if num%i==0:\n",
        "            is_prime=False\n",
        "            break\n",
        "if is_prime:\n",
        "    print(num,\"is a prime number.\")\n",
        "else:\n",
        "    print(num ,\"is not a prime number.\")\n",
        "\n",
        "\n"
      ],
      "metadata": {
        "colab": {
          "base_uri": "https://localhost:8080/"
        },
        "id": "g0n04qylkVfb",
        "outputId": "96e753ac-515c-46a8-be00-a3a46db1e7f1"
      },
      "execution_count": null,
      "outputs": [
        {
          "output_type": "stream",
          "name": "stdout",
          "text": [
            "Enter a number :7\n",
            "7 is a prime number.\n"
          ]
        }
      ]
    },
    {
      "cell_type": "markdown",
      "source": [
        "Q22.Write a program that prints the prime numbers from 15 through\n",
        "25"
      ],
      "metadata": {
        "id": "Uy93qU7NnQtm"
      }
    },
    {
      "cell_type": "code",
      "source": [
        "\n",
        "def is_prime(num):\n",
        "\n",
        "    if num<=1:\n",
        "          return False\n",
        "    for i in range(2,int(num**0.5)+1):\n",
        "         if num%i==0:\n",
        "          return False\n",
        "    return True\n",
        "print(\"Prime number from 15 to 26 :\")\n",
        "for num in range(15,26):\n",
        "    if is_prime(num):\n",
        "        print(num)\n",
        "\n",
        "\n",
        "\n",
        "\n",
        "\n",
        "\n",
        "\n"
      ],
      "metadata": {
        "colab": {
          "base_uri": "https://localhost:8080/"
        },
        "id": "H3hTWs6rnZUj",
        "outputId": "a68b8ac1-0627-44b8-cae3-e875f0013e31"
      },
      "execution_count": null,
      "outputs": [
        {
          "output_type": "stream",
          "name": "stdout",
          "text": [
            "Prime number from 15 to 26 :\n",
            "17\n",
            "19\n",
            "23\n"
          ]
        }
      ]
    },
    {
      "cell_type": "markdown",
      "source": [
        "Q23. Write a program to print the first 20 elements of the\n",
        "Fibonacci series"
      ],
      "metadata": {
        "id": "zciptlRnpfHz"
      }
    },
    {
      "cell_type": "code",
      "source": [
        "fib_series=[0,1]\n",
        "while len(fib_series)<20:\n",
        "    x=fib_series[-1]+fib_series[-2]\n",
        "    fib_series.append(x)\n",
        "print(\"The first 20 elements of the Fibonacci Series :\")\n",
        "print(fib_series)"
      ],
      "metadata": {
        "colab": {
          "base_uri": "https://localhost:8080/"
        },
        "id": "yWgwLC0vplPX",
        "outputId": "ef17c7c9-970f-44ae-c3d5-960a8119c3a4"
      },
      "execution_count": null,
      "outputs": [
        {
          "output_type": "stream",
          "name": "stdout",
          "text": [
            "The first 20 elements of the Fibonacci Series :\n",
            "[0, 1, 1, 2, 3, 5, 8, 13, 21, 34, 55, 89, 144, 233, 377, 610, 987, 1597, 2584, 4181]\n"
          ]
        }
      ]
    },
    {
      "cell_type": "markdown",
      "source": [
        "Q24Write a program to reverse a number"
      ],
      "metadata": {
        "id": "AHJFNzemrhEX"
      }
    },
    {
      "cell_type": "code",
      "source": [
        "n =input(\"Enter a number :\")\n",
        "revno=n[::-1]\n",
        "r_no=int(revno)\n",
        "print(\"Reversed number :\",r_no)"
      ],
      "metadata": {
        "colab": {
          "base_uri": "https://localhost:8080/"
        },
        "id": "oFXwXjhCrqWz",
        "outputId": "c26663ec-c1a5-4e3d-fbec-1f3779214856"
      },
      "execution_count": null,
      "outputs": [
        {
          "output_type": "stream",
          "name": "stdout",
          "text": [
            "Enter a number :123456\n",
            "Reversed number : 654321\n"
          ]
        }
      ]
    },
    {
      "cell_type": "markdown",
      "source": [
        "Q25.Write a program to generate divisors of a number"
      ],
      "metadata": {
        "id": "wb2Si5W7sZoe"
      }
    },
    {
      "cell_type": "code",
      "source": [
        "n=int(input(\"Enter a number :\"))\n",
        "divisor =[]\n",
        "for i in range(1,n+1):\n",
        "     if n%i ==0:\n",
        "        divisor.append(i)\n",
        "print(\"Divisor of \",n,\"is :\",divisor)\n"
      ],
      "metadata": {
        "colab": {
          "base_uri": "https://localhost:8080/"
        },
        "id": "2TtIR5MgsfQI",
        "outputId": "13542c0f-98fc-4456-c101-2dba2b0904d0"
      },
      "execution_count": null,
      "outputs": [
        {
          "output_type": "stream",
          "name": "stdout",
          "text": [
            "Enter a number :70\n",
            "Divisor of  70 is : [1, 2, 5, 7, 10, 14, 35, 70]\n"
          ]
        }
      ]
    },
    {
      "cell_type": "markdown",
      "source": [
        "Q26.Write a program to calculate the BMI of a person after\n",
        "inputting the weight in kgs and height in meters and then print the\n",
        "Nutritional Status as per the following table\n",
        "Nutritional Status BMI\n",
        "\n",
        "Underweight <18.5\n",
        "\n",
        "Normal 18.5-24.9\n",
        "\n",
        "Overweight 25-29.9\n",
        "\n",
        "Obese >=30\n",
        "\n",
        "BMI =weight / (height *height )"
      ],
      "metadata": {
        "id": "13b6BG2ut8bN"
      }
    },
    {
      "cell_type": "code",
      "source": [
        "weight = float(input(\"Enter your weight in kg :\"))\n",
        "height =float(input(\"Enter your height in meters :\"))\n",
        "\n",
        "BMI = weight/(height*height)\n",
        "\n",
        "if BMI <18.5:\n",
        "    status = \"Underweight\"\n",
        "elif 18.5<= BMI <25:\n",
        "    status = \"Normal\"\n",
        "elif 25<= BMI <30:\n",
        "    status = \"OverWeight\"\n",
        "else:\n",
        "    status=\"Obese\"\n",
        "print(\"BMI is\",BMI)\n",
        "print(\"Status is :\",status)"
      ],
      "metadata": {
        "colab": {
          "base_uri": "https://localhost:8080/"
        },
        "id": "7wg8ALhZuNGe",
        "outputId": "f634661c-6acc-4a52-bb5f-210a3029a739"
      },
      "execution_count": null,
      "outputs": [
        {
          "output_type": "stream",
          "name": "stdout",
          "text": [
            "Enter your weight in kg :60\n",
            "Enter your height in meters :1.56\n",
            "BMI is 24.654832347140037\n",
            "Status is : Normal\n"
          ]
        }
      ]
    },
    {
      "cell_type": "markdown",
      "source": [
        "Q27.Write a program to check whether a number is an\n",
        "Armstrong number or not."
      ],
      "metadata": {
        "id": "L56mfsGdxUpo"
      }
    },
    {
      "cell_type": "code",
      "source": [
        "n= int(input(\"Enter a number :\"))\n",
        "m = str(n)\n",
        "n_digit = len(m)\n",
        "sum_digit=sum(int(digit)**n_digit for digit in m)\n",
        "is_armstrong = n ==sum_digit\n",
        "if is_armstrong:\n",
        "    print(\"Is a Armstrong number.\")\n",
        "else:\n",
        "    print(\"Not a Armstrong number .\")"
      ],
      "metadata": {
        "colab": {
          "base_uri": "https://localhost:8080/"
        },
        "id": "ptd3wyXXxgnF",
        "outputId": "5e5440ef-b1d7-4b9c-eaef-0f13ad34ea0b"
      },
      "execution_count": null,
      "outputs": [
        {
          "output_type": "stream",
          "name": "stdout",
          "text": [
            "Enter a number :153\n",
            "Is a Armstrong number.\n"
          ]
        }
      ]
    },
    {
      "cell_type": "markdown",
      "source": [
        "Q28.Write a python program to demonstrate the common network\n",
        "connection errors and display its reasons, get the error code from\n",
        "the user."
      ],
      "metadata": {
        "id": "NeYUvvtPzebF"
      }
    },
    {
      "cell_type": "code",
      "source": [
        "network_errors={\n",
        "    200:\"Bad Request\",\n",
        "    301:\"Unauthorized\",\n",
        "    400:\"Forbidden\",\n",
        "    4004:\"Not Found\"\n",
        "}\n",
        "error_code=int(input(\"Enter a network code :\"))\n",
        "if error_code in network_errors:\n",
        "    error_d=network_errors[error_code]\n",
        "    print(error_code,\":\",error_d)\n",
        "else:\n",
        "    print(error_code,\":\",\"Not in common network\")"
      ],
      "metadata": {
        "colab": {
          "base_uri": "https://localhost:8080/"
        },
        "id": "bdGQkiXIzkCQ",
        "outputId": "570e57bf-f32d-4969-e510-082432e33c4e"
      },
      "execution_count": null,
      "outputs": [
        {
          "output_type": "stream",
          "name": "stdout",
          "text": [
            "Enter a network code :400\n",
            "400 : Forbidden\n"
          ]
        }
      ]
    },
    {
      "cell_type": "markdown",
      "source": [
        "Q29. Write a program to take n (n > 20) as an input from the user.\n",
        "Print numbers from 11 to n. If the number is a multiple of 3 print\n",
        "“Multiple of 3”,if it is a multiple of 7 print “Multiple of 7”, if it is a\n",
        "multiple of both, print multiple of both 3 and 7"
      ],
      "metadata": {
        "id": "Zq4CkdVX2Y-x"
      }
    },
    {
      "cell_type": "code",
      "source": [
        "n = int(input(\"Enter a number (n>20) :\"))\n",
        "if n<=20:\n",
        "    print(\"Enter number greater than 20 :\")\n",
        "else:\n",
        "    for num in range(11,n+1):\n",
        "        r=\" \"\n",
        "        if num%3==0:\n",
        "            r+=\"Multiple of 3\"\n",
        "        if num%7==0:\n",
        "             if r:\n",
        "                 r+=\" and \"\n",
        "             r+=\"Multiple of 7\"\n",
        "        if r:\n",
        "            print(num,r)\n",
        "        else:\n",
        "            print(num)\n",
        "\n"
      ],
      "metadata": {
        "colab": {
          "base_uri": "https://localhost:8080/"
        },
        "id": "z2N2RYEY5ur_",
        "outputId": "6e35a319-b2e8-487d-cd97-ec40c71e46f8"
      },
      "execution_count": null,
      "outputs": [
        {
          "output_type": "stream",
          "name": "stdout",
          "text": [
            "Enter a number (n>20) :30\n",
            "11  \n",
            "12  Multiple of 3\n",
            "13  \n",
            "14   and Multiple of 7\n",
            "15  Multiple of 3\n",
            "16  \n",
            "17  \n",
            "18  Multiple of 3\n",
            "19  \n",
            "20  \n",
            "21  Multiple of 3 and Multiple of 7\n",
            "22  \n",
            "23  \n",
            "24  Multiple of 3\n",
            "25  \n",
            "26  \n",
            "27  Multiple of 3\n",
            "28   and Multiple of 7\n",
            "29  \n",
            "30  Multiple of 3\n"
          ]
        }
      ]
    }
  ]
}